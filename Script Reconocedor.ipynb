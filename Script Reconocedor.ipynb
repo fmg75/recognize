{
 "cells": [
  {
   "cell_type": "code",
   "execution_count": 5,
   "id": "014ea433",
   "metadata": {},
   "outputs": [],
   "source": [
    "import torch\n",
    "from facenet_pytorch import MTCNN ,InceptionResnetV1\n",
    "#from facenet_pytorch import InceptionResnetV1\n",
    "from PIL import Image\n",
    "import pickle\n",
    "\n",
    "# Crear una instancia del modelo InceptionResnetV1 y MTCNN\n",
    "model = InceptionResnetV1(pretrained='vggface2').eval()\n",
    "mtcnn = MTCNN(min_face_size = 50, keep_all = False)\n",
    "# Cargar la variable caracteristicas desde el archivo \"caracteristicas.pkl\"\n",
    "with open(\"./caracteristica.pkl\", \"rb\") as f:\n",
    "    caracteristicas = pickle.load(f)\n",
    "\n",
    "#Funciones para calculas los embedding (Tensores carateristicos de cada imagen), Distancia euclidea ..\n",
    "def embedding(img_tensor):    \n",
    "    #image_tensor = img_tensor\n",
    "    img_embedding = model(img_tensor.unsqueeze(0))\n",
    "    return img_embedding\n",
    "\n",
    "\n",
    "def Distancia(caracteristicas, embedding):\n",
    "    distances = [(label, torch.dist(emb, embedding)) for label, emb in caracteristicas.items()]\n",
    "    sorted_distances = sorted(distances, key=lambda x: x[1])\n",
    "    return sorted_distances[0][0], sorted_distances[0][1].item()\n"
   ]
  },
  {
   "cell_type": "code",
   "execution_count": 12,
   "id": "f9b4122c",
   "metadata": {},
   "outputs": [
    {
     "data": {
      "text/plain": [
       "'Robin_Wright_Penn'"
      ]
     },
     "execution_count": 12,
     "metadata": {},
     "output_type": "execute_result"
    }
   ],
   "source": [
    "#carga una nueva imagen,separa el rostro y predice la etiqueta\n",
    "img = Image.open(\"./reconocer/8.jpg\")\n",
    "embeddingNEW = embedding(mtcnn(img))\n",
    "result = Distancia(caracteristicas, embeddingNEW)\n",
    "result[0] "
   ]
  },
  {
   "cell_type": "code",
   "execution_count": null,
   "id": "e5dcdadb",
   "metadata": {},
   "outputs": [],
   "source": []
  }
 ],
 "metadata": {
  "kernelspec": {
   "display_name": "dev",
   "language": "python",
   "name": "python3"
  },
  "language_info": {
   "codemirror_mode": {
    "name": "ipython",
    "version": 3
   },
   "file_extension": ".py",
   "mimetype": "text/x-python",
   "name": "python",
   "nbconvert_exporter": "python",
   "pygments_lexer": "ipython3",
   "version": "3.10.12"
  },
  "varInspector": {
   "cols": {
    "lenName": 16,
    "lenType": 16,
    "lenVar": 40
   },
   "kernels_config": {
    "python": {
     "delete_cmd_postfix": "",
     "delete_cmd_prefix": "del ",
     "library": "var_list.py",
     "varRefreshCmd": "print(var_dic_list())"
    },
    "r": {
     "delete_cmd_postfix": ") ",
     "delete_cmd_prefix": "rm(",
     "library": "var_list.r",
     "varRefreshCmd": "cat(var_dic_list()) "
    }
   },
   "types_to_exclude": [
    "module",
    "function",
    "builtin_function_or_method",
    "instance",
    "_Feature"
   ],
   "window_display": false
  },
  "vscode": {
   "interpreter": {
    "hash": "073891fde7cdd23e49ebb6c670131e3c052a791da1fa774a5919bc2926b0bbe8"
   }
  }
 },
 "nbformat": 4,
 "nbformat_minor": 5
}
